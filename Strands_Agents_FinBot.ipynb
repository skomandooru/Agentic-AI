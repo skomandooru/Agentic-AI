{
  "cells": [
    {
      "cell_type": "markdown",
      "id": "8e394456",
      "metadata": {
        "id": "8e394456"
      },
      "source": [
        "# Quickstart Guide for Strands Agents\n",
        "\n",
        "Strands Agents is a powerful framework for building AI agents that can interact with AWS services and perform complex tasks. This quickstart guide will help you get started with creating your first Strands agent.\n",
        "\n",
        "## Prerequisites\n",
        "\n",
        "- Python 3.10 or later\n",
        "- AWS account configured with appropriate permissions\n",
        "- Basic understanding of Python programming\n",
        "\n",
        "Lets get started !"
      ]
    },
    {
      "cell_type": "code",
      "execution_count": null,
      "id": "5f7b62fd",
      "metadata": {
        "collapsed": true,
        "id": "5f7b62fd"
      },
      "outputs": [],
      "source": [
        "# Install Strands using pip\n",
        "\n",
        "!pip install strands-agents strands-agents-tools"
      ]
    },
    {
      "cell_type": "markdown",
      "id": "79a45632",
      "metadata": {
        "vscode": {
          "languageId": "plaintext"
        },
        "id": "79a45632"
      },
      "source": [
        "\n",
        "## Creating Your Financial Advisor Agent\n",
        "\n",
        "Lets put in our AWS credentials, and ensure that it works!"
      ]
    },
    {
      "cell_type": "markdown",
      "id": "7c5ddfed",
      "metadata": {
        "id": "7c5ddfed"
      },
      "source": [
        "\n",
        "### Model Provider\n",
        "\n",
        "The default model provider is [Amazon Bedrock](https://aws.amazon.com/bedrock/) and the default model is Claude 3.5 Sonnet in the region of your current AWS environment\n",
        "\n",
        "You can specify a different model in Amazon Bedrock providing the model ID string directly:"
      ]
    },
    {
      "cell_type": "code",
      "execution_count": 4,
      "id": "207432b2",
      "metadata": {
        "colab": {
          "base_uri": "https://localhost:8080/"
        },
        "id": "207432b2",
        "outputId": "cd37df4a-bd26-4cec-bead-5100ad8fe03e"
      },
      "outputs": [
        {
          "output_type": "stream",
          "name": "stdout",
          "text": [
            "{'model_id': 'anthropic.claude-3-5-haiku-20241022-v1:0'}\n"
          ]
        }
      ],
      "source": [
        "from strands import Agent\n",
        "\n",
        "agent = Agent(model=\"anthropic.claude-3-5-haiku-20241022-v1:0\")\n",
        "print(agent.model.config)"
      ]
    },
    {
      "cell_type": "markdown",
      "id": "88b79bb2",
      "metadata": {
        "id": "88b79bb2"
      },
      "source": [
        "\n",
        "For more control over the model configuration, you can create a `BedrockModel` provider instance:"
      ]
    },
    {
      "cell_type": "code",
      "execution_count": 5,
      "id": "13767dd5",
      "metadata": {
        "id": "13767dd5"
      },
      "outputs": [],
      "source": [
        "import boto3\n",
        "from strands import Agent\n",
        "from strands.models import BedrockModel\n",
        "\n",
        "# Create a BedrockModel\n",
        "bedrock_model = BedrockModel(\n",
        "    model_id=\"anthropic.claude-3-5-haiku-20241022-v1:0\",\n",
        "    region_name='us-west-2',\n",
        "    temperature=0.3,\n",
        ")\n",
        "\n",
        "agent = Agent(model=bedrock_model)"
      ]
    },
    {
      "cell_type": "markdown",
      "id": "538e5e20",
      "metadata": {
        "id": "538e5e20"
      },
      "source": [
        "\n",
        "More details on the available model providers on the [Model Provider Quickstart page](https://strandsagents.com/0.1.x/user-guide/quickstart/#model-providers)\n"
      ]
    },
    {
      "cell_type": "markdown",
      "id": "8ad2d9c3",
      "metadata": {
        "id": "8ad2d9c3"
      },
      "source": [
        "## Lets Build a Task-Specific Agent - Financial Advisor Bot 🍽️\n",
        "\n",
        "Duck Duck Go is a website that is used to search for financial information, for example: yahoo finance.\n",
        "\n",
        "Lets create a practical example of a task-specific agent. We create a `FinBot` that gives financial advice. Lets dive in !!\n",
        "\n",
        "Here's what we will create :"
      ]
    },
    {
      "cell_type": "code",
      "execution_count": 6,
      "id": "c4d5761c",
      "metadata": {
        "colab": {
          "base_uri": "https://localhost:8080/"
        },
        "id": "c4d5761c",
        "outputId": "b6c6b48d-e868-43ce-e459-306891ce54b1"
      },
      "outputs": [
        {
          "output_type": "stream",
          "name": "stdout",
          "text": [
            "Collecting duckduckgo-search\n",
            "  Downloading duckduckgo_search-8.0.4-py3-none-any.whl.metadata (16 kB)\n",
            "Requirement already satisfied: click>=8.1.8 in /usr/local/lib/python3.11/dist-packages (from duckduckgo-search) (8.2.1)\n",
            "Collecting primp>=0.15.0 (from duckduckgo-search)\n",
            "  Downloading primp-0.15.0-cp38-abi3-manylinux_2_17_x86_64.manylinux2014_x86_64.whl.metadata (13 kB)\n",
            "Requirement already satisfied: lxml>=5.3.0 in /usr/local/lib/python3.11/dist-packages (from duckduckgo-search) (5.4.0)\n",
            "Downloading duckduckgo_search-8.0.4-py3-none-any.whl (18 kB)\n",
            "Downloading primp-0.15.0-cp38-abi3-manylinux_2_17_x86_64.manylinux2014_x86_64.whl (3.3 MB)\n",
            "\u001b[?25l   \u001b[90m━━━━━━━━━━━━━━━━━━━━━━━━━━━━━━━━━━━━━━━━\u001b[0m \u001b[32m0.0/3.3 MB\u001b[0m \u001b[31m?\u001b[0m eta \u001b[36m-:--:--\u001b[0m\r\u001b[2K   \u001b[91m━━━━━━\u001b[0m\u001b[90m╺\u001b[0m\u001b[90m━━━━━━━━━━━━━━━━━━━━━━━━━━━━━━━━━\u001b[0m \u001b[32m0.5/3.3 MB\u001b[0m \u001b[31m16.8 MB/s\u001b[0m eta \u001b[36m0:00:01\u001b[0m\r\u001b[2K   \u001b[90m━━━━━━━━━━━━━━━━━━━━━━━━━━━━━━━━━━━━━━━━\u001b[0m \u001b[32m3.3/3.3 MB\u001b[0m \u001b[31m49.1 MB/s\u001b[0m eta \u001b[36m0:00:00\u001b[0m\n",
            "\u001b[?25hInstalling collected packages: primp, duckduckgo-search\n",
            "Successfully installed duckduckgo-search-8.0.4 primp-0.15.0\n"
          ]
        }
      ],
      "source": [
        "# Install the required packages\n",
        "%pip install duckduckgo-search # Also install strands-agents strands-agents-tools if you haven't already"
      ]
    },
    {
      "cell_type": "code",
      "execution_count": 7,
      "id": "580312ca",
      "metadata": {
        "id": "580312ca"
      },
      "outputs": [],
      "source": [
        "from strands import Agent, tool\n",
        "from duckduckgo_search import DDGS\n",
        "from duckduckgo_search.exceptions import RatelimitException, DuckDuckGoSearchException\n",
        "import logging\n",
        "\n",
        "# Configure logging\n",
        "logging.getLogger(\"strands\").setLevel(logging.INFO)\n",
        "\n",
        "# Define a websearch tool\n",
        "@tool\n",
        "def websearch(keywords: str, region: str = \"us-en\", max_results: int | None = None) -> str:\n",
        "    \"\"\"Search the web to get updated information.\n",
        "    Args:\n",
        "        keywords (str): The search query keywords.\n",
        "        region (str): The search region: wt-wt, us-en, uk-en, ru-ru, etc..\n",
        "        max_results (int | None): The maximum number of results to return.\n",
        "    Returns:\n",
        "        List of dictionaries with search results.\n",
        "    \"\"\"\n",
        "    try:\n",
        "        results = DDGS().text(keywords, region=region, max_results=max_results)\n",
        "        return results if results else \"No results found.\"\n",
        "    except RatelimitException:\n",
        "        return \"RatelimitException: Please try again after a short delay.\"\n",
        "    except DuckDuckGoSearchException as d:\n",
        "        return f\"DuckDuckGoSearchException: {d}\"\n",
        "    except Exception as e:\n",
        "        return f\"Exception: {e}\"\n"
      ]
    },
    {
      "cell_type": "code",
      "execution_count": 8,
      "id": "0560c754",
      "metadata": {
        "id": "0560c754"
      },
      "outputs": [],
      "source": [
        "# Create a finance assistant agent\n",
        "finance_agent = Agent(\n",
        "    system_prompt=\"\"\"You are a FinBot, a financial advising assistant.\n",
        "    Help users by giving financial advice based on age, income, financial goals, risk tolerance, and time horizon.\n",
        "    Use the websearch tool to go to yahoo finance and tell me which stock or share is worth investing in like S&P 500 or S&P 50.\n",
        "    Give me an explanation why you pick that specific one over the others or whichever one you are comparing with.\"\"\",\n",
        "    # Import the websearch tool we created above\n",
        "    tools=[websearch],\n",
        ")"
      ]
    },
    {
      "cell_type": "code",
      "execution_count": 9,
      "id": "6a6dafb2",
      "metadata": {
        "colab": {
          "base_uri": "https://localhost:8080/"
        },
        "id": "6a6dafb2",
        "outputId": "1e025eee-2504-457f-e020-e4951a9f6a5c"
      },
      "outputs": [
        {
          "output_type": "stream",
          "name": "stdout",
          "text": [
            "Thank you for sharing your financial information. At 25 years old with an income of $15,000, it's great that you're already thinking about important financial goals like buying a car, saving for retirement, and building an emergency fund.\n",
            "\n",
            "Before making specific investment recommendations, I'll search for current information about potential investment options that might be suitable for your situation.\n",
            "Tool #1: websearch\n",
            "Based on my research, I'll now search for more specific information about low-cost S&P 500 index funds and their current performance:\n",
            "Tool #2: websearch\n",
            "Let me now search for some additional information about emergency funds and savings strategies for low-income investors:\n",
            "Tool #3: websearch\n",
            "# Financial Advice for a 25-Year-Old with $15,000 Income\n",
            "\n",
            "Based on your financial situation and goals, here's my comprehensive advice:\n",
            "\n",
            "## Your Financial Priorities (In Order)\n",
            "\n",
            "1. **Emergency Fund** - This should be your first priority\n",
            "2. **Retirement Savings** - Even small contributions now are valuable\n",
            "3. **Car Fund** - Save separately for this specific goal\n",
            "\n",
            "## Emergency Fund Recommendation\n",
            "\n",
            "With your income level, aim to build an emergency fund of 3-6 months of expenses (likely $3,000-$6,000 based on your income). Keep this in a high-yield savings account for easy access and some interest earnings.\n",
            "\n",
            "## Investment Recommendation: Schwab S&P 500 Index Fund (SWPPX)\n",
            "\n",
            "After researching current options, I recommend the **Schwab S&P 500 Index Fund (SWPPX)** for your retirement savings for these reasons:\n",
            "\n",
            "1. **Ultra-low expense ratio of 0.02%** - Even slightly lower than similar funds like VOO (0.03%)\n",
            "2. **$1 minimum investment** - Perfect for your income level, allowing you to start small\n",
            "3. **Dollar-cost averaging friendly** - You can contribute small amounts regularly\n",
            "4. **Long-term historical performance** - Tracks the S&P 500, which has shown strong long-term growth\n",
            "5. **Excellent diversification** - Gives you exposure to 500 of America's largest companies\n",
            "\n",
            "## Implementation Plan:\n",
            "\n",
            "1. **Emergency Fund**: Open a high-yield savings account and contribute regularly until you have 3-6 months of expenses saved.\n",
            "\n",
            "2. **Retirement**: Consider opening a Roth IRA if you qualify and invest in SWPPX within it. Even $25-50 per month will grow significantly over time thanks to compound interest.\n",
            "\n",
            "3. **Car Fund**: Create a separate savings account specifically for your future car purchase.\n",
            "\n",
            "## Why SWPPX Over Other Options:\n",
            "\n",
            "- **SWPPX vs. VOO**: While both track the S&P 500, SWPPX has a slightly lower expense ratio (0.02% vs. 0.03%) and no minimum investment requirement, making it more accessible for your income level.\n",
            "\n",
            "- **SWPPX vs. VTI (Vanguard Total Stock Market)**: While VTI offers broader market exposure, SWPPX's focus on large-cap stability may be better suited for your situation with limited initial investment capital.\n",
            "\n",
            "Given your young age, the S&P 500 index fund is ideal since you have a long time horizon for retirement savings, allowing you to benefit from the historical upward trajectory of the market while weathering short-term volatility.\n",
            "\n",
            "Would you like me to explain more about how to balance building your emergency fund while also starting to invest for retirement? Or would you prefer more details about opening these accounts?# Financial Advice for a 25-Year-Old with $15,000 Income\n",
            "\n",
            "Based on your financial situation and goals, here's my comprehensive advice:\n",
            "\n",
            "## Your Financial Priorities (In Order)\n",
            "\n",
            "1. **Emergency Fund** - This should be your first priority\n",
            "2. **Retirement Savings** - Even small contributions now are valuable\n",
            "3. **Car Fund** - Save separately for this specific goal\n",
            "\n",
            "## Emergency Fund Recommendation\n",
            "\n",
            "With your income level, aim to build an emergency fund of 3-6 months of expenses (likely $3,000-$6,000 based on your income). Keep this in a high-yield savings account for easy access and some interest earnings.\n",
            "\n",
            "## Investment Recommendation: Schwab S&P 500 Index Fund (SWPPX)\n",
            "\n",
            "After researching current options, I recommend the **Schwab S&P 500 Index Fund (SWPPX)** for your retirement savings for these reasons:\n",
            "\n",
            "1. **Ultra-low expense ratio of 0.02%** - Even slightly lower than similar funds like VOO (0.03%)\n",
            "2. **$1 minimum investment** - Perfect for your income level, allowing you to start small\n",
            "3. **Dollar-cost averaging friendly** - You can contribute small amounts regularly\n",
            "4. **Long-term historical performance** - Tracks the S&P 500, which has shown strong long-term growth\n",
            "5. **Excellent diversification** - Gives you exposure to 500 of America's largest companies\n",
            "\n",
            "## Implementation Plan:\n",
            "\n",
            "1. **Emergency Fund**: Open a high-yield savings account and contribute regularly until you have 3-6 months of expenses saved.\n",
            "\n",
            "2. **Retirement**: Consider opening a Roth IRA if you qualify and invest in SWPPX within it. Even $25-50 per month will grow significantly over time thanks to compound interest.\n",
            "\n",
            "3. **Car Fund**: Create a separate savings account specifically for your future car purchase.\n",
            "\n",
            "## Why SWPPX Over Other Options:\n",
            "\n",
            "- **SWPPX vs. VOO**: While both track the S&P 500, SWPPX has a slightly lower expense ratio (0.02% vs. 0.03%) and no minimum investment requirement, making it more accessible for your income level.\n",
            "\n",
            "- **SWPPX vs. VTI (Vanguard Total Stock Market)**: While VTI offers broader market exposure, SWPPX's focus on large-cap stability may be better suited for your situation with limited initial investment capital.\n",
            "\n",
            "Given your young age, the S&P 500 index fund is ideal since you have a long time horizon for retirement savings, allowing you to benefit from the historical upward trajectory of the market while weathering short-term volatility.\n",
            "\n",
            "Would you like me to explain more about how to balance building your emergency fund while also starting to invest for retirement? Or would you prefer more details about opening these accounts?\n",
            "\n"
          ]
        }
      ],
      "source": [
        "response = finance_agent(\"I am 25 yrs old, make $15,000, plan to buy a car in the future, also plan to save money for my retirement, and have an emergency fund.\")\n",
        "\n",
        "print(response)"
      ]
    },
    {
      "cell_type": "markdown",
      "id": "9f92c8a4",
      "metadata": {
        "id": "9f92c8a4"
      },
      "source": [
        "#### And that's it! We now have a running usecase agent with tools in just a few lines of code 🥳.\n",
        "\n",
        "For more detailed quickstart guide, check out the [Strands documentation](https://strandsagents.com/0.1.x/user-guide/quickstart/)."
      ]
    }
  ],
  "metadata": {
    "kernelspec": {
      "display_name": "Python 3 (ipykernel)",
      "language": "python",
      "name": "python3"
    },
    "language_info": {
      "codemirror_mode": {
        "name": "ipython",
        "version": 3
      },
      "file_extension": ".py",
      "mimetype": "text/x-python",
      "name": "python",
      "nbconvert_exporter": "python",
      "pygments_lexer": "ipython3",
      "version": "3.12.9"
    },
    "colab": {
      "provenance": []
    }
  },
  "nbformat": 4,
  "nbformat_minor": 5
}