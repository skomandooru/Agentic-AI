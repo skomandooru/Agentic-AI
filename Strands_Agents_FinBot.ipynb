{
  "cells": [
    {
      "cell_type": "markdown",
      "id": "8e394456",
      "metadata": {
        "id": "8e394456"
      },
      "source": [
        "# Quickstart Guide for Strands Agents\n",
        "\n",
        "Strands Agents is a powerful framework for building AI agents that can interact with AWS services and perform complex tasks. This quickstart guide will help you get started with creating your first Strands agent.\n",
        "\n",
        "## Prerequisites\n",
        "\n",
        "- Python 3.10 or later\n",
        "- AWS account configured with appropriate permissions\n",
        "- Basic understanding of Python programming\n",
        "\n",
        "Lets get started !"
      ]
    },
    {
      "cell_type": "code",
      "execution_count": 10,
      "id": "5f7b62fd",
      "metadata": {
        "colab": {
          "base_uri": "https://localhost:8080/"
        },
        "collapsed": true,
        "id": "5f7b62fd",
        "outputId": "a053fd65-bec2-48f3-b8b5-d84ab7d62998"
      },
      "outputs": [
        {
          "output_type": "stream",
          "name": "stdout",
          "text": [
            "Requirement already satisfied: strands-agents in /usr/local/lib/python3.11/dist-packages (0.1.8)\n",
            "Requirement already satisfied: strands-agents-tools in /usr/local/lib/python3.11/dist-packages (0.1.6)\n",
            "Requirement already satisfied: boto3<2.0.0,>=1.26.0 in /usr/local/lib/python3.11/dist-packages (from strands-agents) (1.38.40)\n",
            "Requirement already satisfied: botocore<2.0.0,>=1.29.0 in /usr/local/lib/python3.11/dist-packages (from strands-agents) (1.38.40)\n",
            "Requirement already satisfied: docstring-parser<1.0,>=0.15 in /usr/local/lib/python3.11/dist-packages (from strands-agents) (0.16)\n",
            "Requirement already satisfied: mcp<2.0.0,>=1.8.0 in /usr/local/lib/python3.11/dist-packages (from strands-agents) (1.9.4)\n",
            "Requirement already satisfied: opentelemetry-api<2.0.0,>=1.30.0 in /usr/local/lib/python3.11/dist-packages (from strands-agents) (1.34.1)\n",
            "Requirement already satisfied: opentelemetry-sdk<2.0.0,>=1.30.0 in /usr/local/lib/python3.11/dist-packages (from strands-agents) (1.34.1)\n",
            "Requirement already satisfied: pydantic<3.0.0,>=2.0.0 in /usr/local/lib/python3.11/dist-packages (from strands-agents) (2.11.7)\n",
            "Requirement already satisfied: typing-extensions<5.0.0,>=4.13.2 in /usr/local/lib/python3.11/dist-packages (from strands-agents) (4.14.0)\n",
            "Requirement already satisfied: watchdog<7.0.0,>=6.0.0 in /usr/local/lib/python3.11/dist-packages (from strands-agents) (6.0.0)\n",
            "Requirement already satisfied: aws-requests-auth<0.5.0,>=0.4.3 in /usr/local/lib/python3.11/dist-packages (from strands-agents-tools) (0.4.3)\n",
            "Requirement already satisfied: colorama<0.5.0,>=0.4.6 in /usr/local/lib/python3.11/dist-packages (from strands-agents-tools) (0.4.6)\n",
            "Requirement already satisfied: dill<0.5.0,>=0.4.0 in /usr/local/lib/python3.11/dist-packages (from strands-agents-tools) (0.4.0)\n",
            "Requirement already satisfied: pillow<12.0.0,>=11.2.1 in /usr/local/lib/python3.11/dist-packages (from strands-agents-tools) (11.2.1)\n",
            "Requirement already satisfied: prompt-toolkit<4.0.0,>=3.0.51 in /usr/local/lib/python3.11/dist-packages (from strands-agents-tools) (3.0.51)\n",
            "Requirement already satisfied: pyjwt<3.0.0,>=2.10.1 in /usr/local/lib/python3.11/dist-packages (from strands-agents-tools) (2.10.1)\n",
            "Requirement already satisfied: rich<15.0.0,>=14.0.0 in /usr/local/lib/python3.11/dist-packages (from strands-agents-tools) (14.0.0)\n",
            "Requirement already satisfied: slack-bolt<2.0.0,>=1.23.0 in /usr/local/lib/python3.11/dist-packages (from strands-agents-tools) (1.23.0)\n",
            "Requirement already satisfied: sympy<2.0.0,>=1.12.0 in /usr/local/lib/python3.11/dist-packages (from strands-agents-tools) (1.13.1)\n",
            "Requirement already satisfied: tenacity<10.0.0,>=9.1.2 in /usr/local/lib/python3.11/dist-packages (from strands-agents-tools) (9.1.2)\n",
            "Requirement already satisfied: requests>=0.14.0 in /usr/local/lib/python3.11/dist-packages (from aws-requests-auth<0.5.0,>=0.4.3->strands-agents-tools) (2.32.3)\n",
            "Requirement already satisfied: jmespath<2.0.0,>=0.7.1 in /usr/local/lib/python3.11/dist-packages (from boto3<2.0.0,>=1.26.0->strands-agents) (1.0.1)\n",
            "Requirement already satisfied: s3transfer<0.14.0,>=0.13.0 in /usr/local/lib/python3.11/dist-packages (from boto3<2.0.0,>=1.26.0->strands-agents) (0.13.0)\n",
            "Requirement already satisfied: python-dateutil<3.0.0,>=2.1 in /usr/local/lib/python3.11/dist-packages (from botocore<2.0.0,>=1.29.0->strands-agents) (2.9.0.post0)\n",
            "Requirement already satisfied: urllib3!=2.2.0,<3,>=1.25.4 in /usr/local/lib/python3.11/dist-packages (from botocore<2.0.0,>=1.29.0->strands-agents) (2.4.0)\n",
            "Requirement already satisfied: anyio>=4.5 in /usr/local/lib/python3.11/dist-packages (from mcp<2.0.0,>=1.8.0->strands-agents) (4.9.0)\n",
            "Requirement already satisfied: httpx-sse>=0.4 in /usr/local/lib/python3.11/dist-packages (from mcp<2.0.0,>=1.8.0->strands-agents) (0.4.0)\n",
            "Requirement already satisfied: httpx>=0.27 in /usr/local/lib/python3.11/dist-packages (from mcp<2.0.0,>=1.8.0->strands-agents) (0.28.1)\n",
            "Requirement already satisfied: pydantic-settings>=2.5.2 in /usr/local/lib/python3.11/dist-packages (from mcp<2.0.0,>=1.8.0->strands-agents) (2.9.1)\n",
            "Requirement already satisfied: python-multipart>=0.0.9 in /usr/local/lib/python3.11/dist-packages (from mcp<2.0.0,>=1.8.0->strands-agents) (0.0.20)\n",
            "Requirement already satisfied: sse-starlette>=1.6.1 in /usr/local/lib/python3.11/dist-packages (from mcp<2.0.0,>=1.8.0->strands-agents) (2.3.6)\n",
            "Requirement already satisfied: starlette>=0.27 in /usr/local/lib/python3.11/dist-packages (from mcp<2.0.0,>=1.8.0->strands-agents) (0.46.2)\n",
            "Requirement already satisfied: uvicorn>=0.23.1 in /usr/local/lib/python3.11/dist-packages (from mcp<2.0.0,>=1.8.0->strands-agents) (0.34.3)\n",
            "Requirement already satisfied: importlib-metadata<8.8.0,>=6.0 in /usr/local/lib/python3.11/dist-packages (from opentelemetry-api<2.0.0,>=1.30.0->strands-agents) (8.7.0)\n",
            "Requirement already satisfied: opentelemetry-semantic-conventions==0.55b1 in /usr/local/lib/python3.11/dist-packages (from opentelemetry-sdk<2.0.0,>=1.30.0->strands-agents) (0.55b1)\n",
            "Requirement already satisfied: wcwidth in /usr/local/lib/python3.11/dist-packages (from prompt-toolkit<4.0.0,>=3.0.51->strands-agents-tools) (0.2.13)\n",
            "Requirement already satisfied: annotated-types>=0.6.0 in /usr/local/lib/python3.11/dist-packages (from pydantic<3.0.0,>=2.0.0->strands-agents) (0.7.0)\n",
            "Requirement already satisfied: pydantic-core==2.33.2 in /usr/local/lib/python3.11/dist-packages (from pydantic<3.0.0,>=2.0.0->strands-agents) (2.33.2)\n",
            "Requirement already satisfied: typing-inspection>=0.4.0 in /usr/local/lib/python3.11/dist-packages (from pydantic<3.0.0,>=2.0.0->strands-agents) (0.4.1)\n",
            "Requirement already satisfied: markdown-it-py>=2.2.0 in /usr/local/lib/python3.11/dist-packages (from rich<15.0.0,>=14.0.0->strands-agents-tools) (3.0.0)\n",
            "Requirement already satisfied: pygments<3.0.0,>=2.13.0 in /usr/local/lib/python3.11/dist-packages (from rich<15.0.0,>=14.0.0->strands-agents-tools) (2.19.1)\n",
            "Requirement already satisfied: slack_sdk<4,>=3.35.0 in /usr/local/lib/python3.11/dist-packages (from slack-bolt<2.0.0,>=1.23.0->strands-agents-tools) (3.35.0)\n",
            "Requirement already satisfied: mpmath<1.4,>=1.1.0 in /usr/local/lib/python3.11/dist-packages (from sympy<2.0.0,>=1.12.0->strands-agents-tools) (1.3.0)\n",
            "Requirement already satisfied: idna>=2.8 in /usr/local/lib/python3.11/dist-packages (from anyio>=4.5->mcp<2.0.0,>=1.8.0->strands-agents) (3.10)\n",
            "Requirement already satisfied: sniffio>=1.1 in /usr/local/lib/python3.11/dist-packages (from anyio>=4.5->mcp<2.0.0,>=1.8.0->strands-agents) (1.3.1)\n",
            "Requirement already satisfied: certifi in /usr/local/lib/python3.11/dist-packages (from httpx>=0.27->mcp<2.0.0,>=1.8.0->strands-agents) (2025.6.15)\n",
            "Requirement already satisfied: httpcore==1.* in /usr/local/lib/python3.11/dist-packages (from httpx>=0.27->mcp<2.0.0,>=1.8.0->strands-agents) (1.0.9)\n",
            "Requirement already satisfied: h11>=0.16 in /usr/local/lib/python3.11/dist-packages (from httpcore==1.*->httpx>=0.27->mcp<2.0.0,>=1.8.0->strands-agents) (0.16.0)\n",
            "Requirement already satisfied: zipp>=3.20 in /usr/local/lib/python3.11/dist-packages (from importlib-metadata<8.8.0,>=6.0->opentelemetry-api<2.0.0,>=1.30.0->strands-agents) (3.23.0)\n",
            "Requirement already satisfied: mdurl~=0.1 in /usr/local/lib/python3.11/dist-packages (from markdown-it-py>=2.2.0->rich<15.0.0,>=14.0.0->strands-agents-tools) (0.1.2)\n",
            "Requirement already satisfied: python-dotenv>=0.21.0 in /usr/local/lib/python3.11/dist-packages (from pydantic-settings>=2.5.2->mcp<2.0.0,>=1.8.0->strands-agents) (1.1.0)\n",
            "Requirement already satisfied: six>=1.5 in /usr/local/lib/python3.11/dist-packages (from python-dateutil<3.0.0,>=2.1->botocore<2.0.0,>=1.29.0->strands-agents) (1.17.0)\n",
            "Requirement already satisfied: charset-normalizer<4,>=2 in /usr/local/lib/python3.11/dist-packages (from requests>=0.14.0->aws-requests-auth<0.5.0,>=0.4.3->strands-agents-tools) (3.4.2)\n",
            "Requirement already satisfied: click>=7.0 in /usr/local/lib/python3.11/dist-packages (from uvicorn>=0.23.1->mcp<2.0.0,>=1.8.0->strands-agents) (8.2.1)\n"
          ]
        }
      ],
      "source": [
        "# Install Strands using pip\n",
        "\n",
        "!pip install strands-agents strands-agents-tools"
      ]
    },
    {
      "cell_type": "markdown",
      "id": "79a45632",
      "metadata": {
        "vscode": {
          "languageId": "plaintext"
        },
        "id": "79a45632"
      },
      "source": [
        "\n",
        "## Creating Your Financial Advisor Agent\n",
        "\n",
        "Lets put in our AWS credentials, and ensure that it works!"
      ]
    },
    {
      "cell_type": "markdown",
      "id": "7c5ddfed",
      "metadata": {
        "id": "7c5ddfed"
      },
      "source": [
        "\n",
        "### Model Provider\n",
        "\n",
        "The default model provider is [Amazon Bedrock](https://aws.amazon.com/bedrock/) and the default model is Claude 3.5 Sonnet in the region of your current AWS environment\n",
        "\n",
        "You can specify a different model in Amazon Bedrock providing the model ID string directly:"
      ]
    },
    {
      "cell_type": "code",
      "execution_count": 3,
      "id": "207432b2",
      "metadata": {
        "colab": {
          "base_uri": "https://localhost:8080/"
        },
        "id": "207432b2",
        "outputId": "e6f5eec5-a530-4264-90c8-a013e42ff0d5"
      },
      "outputs": [
        {
          "output_type": "stream",
          "name": "stdout",
          "text": [
            "{'model_id': 'anthropic.claude-3-5-haiku-20241022-v1:0'}\n"
          ]
        }
      ],
      "source": [
        "from strands import Agent\n",
        "\n",
        "agent = Agent(model=\"anthropic.claude-3-5-haiku-20241022-v1:0\")\n",
        "print(agent.model.config)"
      ]
    },
    {
      "cell_type": "markdown",
      "id": "88b79bb2",
      "metadata": {
        "id": "88b79bb2"
      },
      "source": [
        "\n",
        "For more control over the model configuration, you can create a `BedrockModel` provider instance:"
      ]
    },
    {
      "cell_type": "code",
      "execution_count": 4,
      "id": "13767dd5",
      "metadata": {
        "id": "13767dd5"
      },
      "outputs": [],
      "source": [
        "import boto3\n",
        "from strands import Agent\n",
        "from strands.models import BedrockModel\n",
        "\n",
        "# Create a BedrockModel\n",
        "bedrock_model = BedrockModel(\n",
        "    model_id=\"anthropic.claude-3-5-haiku-20241022-v1:0\",\n",
        "    region_name='us-west-2',\n",
        "    temperature=0.3,\n",
        ")\n",
        "\n",
        "agent = Agent(model=bedrock_model)"
      ]
    },
    {
      "cell_type": "markdown",
      "id": "538e5e20",
      "metadata": {
        "id": "538e5e20"
      },
      "source": [
        "\n",
        "More details on the available model providers on the [Model Provider Quickstart page](https://strandsagents.com/0.1.x/user-guide/quickstart/#model-providers)\n"
      ]
    },
    {
      "cell_type": "markdown",
      "id": "8ad2d9c3",
      "metadata": {
        "id": "8ad2d9c3"
      },
      "source": [
        "## Lets Build a Task-Specific Agent - Financial Advisor Bot 🍽️\n",
        "\n",
        "Lets create a practical example of a task-specific agent. We create a `FinBot` that gives financial advice. Lets dive in !!\n",
        "\n",
        "Here's what we will create :"
      ]
    },
    {
      "cell_type": "code",
      "execution_count": 5,
      "id": "c4d5761c",
      "metadata": {
        "colab": {
          "base_uri": "https://localhost:8080/"
        },
        "id": "c4d5761c",
        "outputId": "95869d2b-34a2-4799-8217-4395472efcc3"
      },
      "outputs": [
        {
          "output_type": "stream",
          "name": "stdout",
          "text": [
            "Collecting duckduckgo-search\n",
            "  Downloading duckduckgo_search-8.0.4-py3-none-any.whl.metadata (16 kB)\n",
            "Requirement already satisfied: click>=8.1.8 in /usr/local/lib/python3.11/dist-packages (from duckduckgo-search) (8.2.1)\n",
            "Collecting primp>=0.15.0 (from duckduckgo-search)\n",
            "  Downloading primp-0.15.0-cp38-abi3-manylinux_2_17_x86_64.manylinux2014_x86_64.whl.metadata (13 kB)\n",
            "Requirement already satisfied: lxml>=5.3.0 in /usr/local/lib/python3.11/dist-packages (from duckduckgo-search) (5.4.0)\n",
            "Downloading duckduckgo_search-8.0.4-py3-none-any.whl (18 kB)\n",
            "Downloading primp-0.15.0-cp38-abi3-manylinux_2_17_x86_64.manylinux2014_x86_64.whl (3.3 MB)\n",
            "\u001b[2K   \u001b[90m━━━━━━━━━━━━━━━━━━━━━━━━━━━━━━━━━━━━━━━━\u001b[0m \u001b[32m3.3/3.3 MB\u001b[0m \u001b[31m25.5 MB/s\u001b[0m eta \u001b[36m0:00:00\u001b[0m\n",
            "\u001b[?25hInstalling collected packages: primp, duckduckgo-search\n",
            "Successfully installed duckduckgo-search-8.0.4 primp-0.15.0\n"
          ]
        }
      ],
      "source": [
        "# Install the required packages\n",
        "%pip install duckduckgo-search # Also install strands-agents strands-agents-tools if you haven't already"
      ]
    },
    {
      "cell_type": "code",
      "execution_count": 6,
      "id": "580312ca",
      "metadata": {
        "id": "580312ca"
      },
      "outputs": [],
      "source": [
        "from strands import Agent, tool\n",
        "from duckduckgo_search import DDGS\n",
        "from duckduckgo_search.exceptions import RatelimitException, DuckDuckGoSearchException\n",
        "import logging\n",
        "\n",
        "# Configure logging\n",
        "logging.getLogger(\"strands\").setLevel(logging.INFO)\n",
        "\n",
        "# Define a websearch tool\n",
        "@tool\n",
        "def websearch(keywords: str, region: str = \"us-en\", max_results: int | None = None) -> str:\n",
        "    \"\"\"Search the web to get updated information.\n",
        "    Args:\n",
        "        keywords (str): The search query keywords.\n",
        "        region (str): The search region: wt-wt, us-en, uk-en, ru-ru, etc..\n",
        "        max_results (int | None): The maximum number of results to return.\n",
        "    Returns:\n",
        "        List of dictionaries with search results.\n",
        "    \"\"\"\n",
        "    try:\n",
        "        results = DDGS().text(keywords, region=region, max_results=max_results)\n",
        "        return results if results else \"No results found.\"\n",
        "    except RatelimitException:\n",
        "        return \"RatelimitException: Please try again after a short delay.\"\n",
        "    except DuckDuckGoSearchException as d:\n",
        "        return f\"DuckDuckGoSearchException: {d}\"\n",
        "    except Exception as e:\n",
        "        return f\"Exception: {e}\"\n"
      ]
    },
    {
      "cell_type": "code",
      "execution_count": 7,
      "id": "0560c754",
      "metadata": {
        "id": "0560c754"
      },
      "outputs": [],
      "source": [
        "# Create a recipe assistant agent\n",
        "recipe_agent = Agent(\n",
        "    system_prompt=\"\"\"You are a FinBot, a financial advising assistant.\n",
        "    Help users by giving financial advice based on age, income, financial goals, risk tolerance, and time horizon.\n",
        "    Use the websearch tool to go to yahoo finance and tell me which stock or share is worth investing in like S&P 500 or S&P 50.\n",
        "    Give me an explanation why you pick that specific one over the others or whichever one you are comparing with.\"\"\",\n",
        "    # Import the websearch tool we created above\n",
        "    tools=[websearch],\n",
        ")"
      ]
    },
    {
      "cell_type": "code",
      "execution_count": 9,
      "id": "6a6dafb2",
      "metadata": {
        "colab": {
          "base_uri": "https://localhost:8080/"
        },
        "id": "6a6dafb2",
        "outputId": "35dd5be2-8c84-4b2b-9382-16afef1fb72c"
      },
      "outputs": [
        {
          "output_type": "stream",
          "name": "stdout",
          "text": [
            "Thank you for providing more details about your financial situation. It's great to hear that you already have an emergency fund in place - that's an excellent foundation for your financial planning.\n",
            "\n",
            "Given your age (25), income ($15,000), goals of buying a car and saving for retirement, and the fact that you've already established an emergency fund, let me search for the most current information on suitable investment options for you.\n",
            "Tool #4: websearch\n",
            "\n",
            "Tool #5: websearch\n",
            "\n",
            "Tool #6: websearch\n",
            "\n",
            "Tool #7: websearch\n",
            "Based on the research I was able to gather and your financial situation, here's my investment recommendation:\n",
            "\n",
            "# Investment Recommendation for Your Dual Goals\n",
            "\n",
            "## Recommended Investment: Vanguard S&P 500 ETF (VOO)\n",
            "\n",
            "After analyzing current market options, I recommend the Vanguard S&P 500 ETF (VOO) as the best investment option for your situation. Here's why I'm recommending this over other alternatives:\n",
            "\n",
            "### Why VOO is Best for Your Situation:\n",
            "\n",
            "1. **Ultra-low expense ratio (0.03%)**: This is critical for someone with your income level, as fees can significantly impact returns. VOO charges only $0.30 annually per $1,000 invested, compared to many mutual funds that charge 10-20 times more.\n",
            "\n",
            "2. **Lower share price accessibility**: VOO has a lower share price than comparable ETFs like iShares Core S&P 500 (IVV), allowing you to invest smaller amounts more efficiently. This means you can start with less money and invest more frequently.\n",
            "\n",
            "3. **Dual-goal compatibility**: The S&P 500's historical performance makes it suitable for both your medium-term car purchase goal and your long-term retirement planning.\n",
            "\n",
            "4. **Diversification**: VOO instantly diversifies your investments across 500+ of America's largest companies spanning all major sectors of the economy.\n",
            "\n",
            "5. **Tax efficiency**: VOO has excellent tax efficiency, which helps maximize returns, especially important at your income level.\n",
            "\n",
            "### Comparison with Alternatives:\n",
            "\n",
            "- **iShares Core S&P 500 ETF (IVV)**: While almost identical in performance and expense ratio to VOO, IVV typically has a higher share price, requiring more money to purchase a single share.\n",
            "\n",
            "- **SPDR S&P 500 ETF (SPY)**: The oldest and most liquid S&P 500 ETF, but has a higher expense ratio (0.09%) compared to VOO's 0.03%, which would eat more into your returns over time.\n",
            "\n",
            "- **Individual stocks**: Far too risky for your goals and income level, as poor performance from a few companies could significantly impact your savings.\n",
            "\n",
            "- **Target-date funds**: While convenient for retirement planning, these typically have higher expense ratios and may be too conservative for your car purchase goal.\n",
            "\n",
            "## Implementation Strategy:\n",
            "\n",
            "Given your dual goals and income level, here's how I recommend implementing this investment strategy:\n",
            "\n",
            "1. **Set up a Roth IRA first**: Since your income is below the Roth IRA contribution limits, this is ideal. You can contribute up to $6,500 annually (2023 limit), and investments grow tax-free. You can withdraw your contributions (but not earnings) penalty-free at any time, which could help with your car purchase.\n",
            "\n",
            "2. **Create a \"bucket\" approach**:\n",
            "   - **Car purchase bucket**: Aim to keep about 30-40% of your investments more accessible for your car purchase goal.\n",
            "   - **Retirement bucket**: The remaining 60-70% should be dedicated to long-term retirement savings.\n",
            "\n",
            "3. **Start with small, consistent investments**: Even $50-100 monthly can build significantly over time. The power of compounding works best when you start early, which is an advantage at your age.\n",
            "\n",
            "4. **Consider fractional shares**: Many brokerages now offer fractional shares of ETFs, allowing you to invest specific dollar amounts rather than having to buy whole shares.\n",
            "\n",
            "5. **Keep emergency fund separate**: Since you already have an emergency fund, make sure to keep it in a high-yield savings account separate from your investments.\n",
            "\n",
            "Would you like more specific information about opening a Roth IRA account, setting up automatic investments in VOO, or how to balance your investment strategy between your car purchase and retirement goals?Based on the research I was able to gather and your financial situation, here's my investment recommendation:\n",
            "\n",
            "# Investment Recommendation for Your Dual Goals\n",
            "\n",
            "## Recommended Investment: Vanguard S&P 500 ETF (VOO)\n",
            "\n",
            "After analyzing current market options, I recommend the Vanguard S&P 500 ETF (VOO) as the best investment option for your situation. Here's why I'm recommending this over other alternatives:\n",
            "\n",
            "### Why VOO is Best for Your Situation:\n",
            "\n",
            "1. **Ultra-low expense ratio (0.03%)**: This is critical for someone with your income level, as fees can significantly impact returns. VOO charges only $0.30 annually per $1,000 invested, compared to many mutual funds that charge 10-20 times more.\n",
            "\n",
            "2. **Lower share price accessibility**: VOO has a lower share price than comparable ETFs like iShares Core S&P 500 (IVV), allowing you to invest smaller amounts more efficiently. This means you can start with less money and invest more frequently.\n",
            "\n",
            "3. **Dual-goal compatibility**: The S&P 500's historical performance makes it suitable for both your medium-term car purchase goal and your long-term retirement planning.\n",
            "\n",
            "4. **Diversification**: VOO instantly diversifies your investments across 500+ of America's largest companies spanning all major sectors of the economy.\n",
            "\n",
            "5. **Tax efficiency**: VOO has excellent tax efficiency, which helps maximize returns, especially important at your income level.\n",
            "\n",
            "### Comparison with Alternatives:\n",
            "\n",
            "- **iShares Core S&P 500 ETF (IVV)**: While almost identical in performance and expense ratio to VOO, IVV typically has a higher share price, requiring more money to purchase a single share.\n",
            "\n",
            "- **SPDR S&P 500 ETF (SPY)**: The oldest and most liquid S&P 500 ETF, but has a higher expense ratio (0.09%) compared to VOO's 0.03%, which would eat more into your returns over time.\n",
            "\n",
            "- **Individual stocks**: Far too risky for your goals and income level, as poor performance from a few companies could significantly impact your savings.\n",
            "\n",
            "- **Target-date funds**: While convenient for retirement planning, these typically have higher expense ratios and may be too conservative for your car purchase goal.\n",
            "\n",
            "## Implementation Strategy:\n",
            "\n",
            "Given your dual goals and income level, here's how I recommend implementing this investment strategy:\n",
            "\n",
            "1. **Set up a Roth IRA first**: Since your income is below the Roth IRA contribution limits, this is ideal. You can contribute up to $6,500 annually (2023 limit), and investments grow tax-free. You can withdraw your contributions (but not earnings) penalty-free at any time, which could help with your car purchase.\n",
            "\n",
            "2. **Create a \"bucket\" approach**:\n",
            "   - **Car purchase bucket**: Aim to keep about 30-40% of your investments more accessible for your car purchase goal.\n",
            "   - **Retirement bucket**: The remaining 60-70% should be dedicated to long-term retirement savings.\n",
            "\n",
            "3. **Start with small, consistent investments**: Even $50-100 monthly can build significantly over time. The power of compounding works best when you start early, which is an advantage at your age.\n",
            "\n",
            "4. **Consider fractional shares**: Many brokerages now offer fractional shares of ETFs, allowing you to invest specific dollar amounts rather than having to buy whole shares.\n",
            "\n",
            "5. **Keep emergency fund separate**: Since you already have an emergency fund, make sure to keep it in a high-yield savings account separate from your investments.\n",
            "\n",
            "Would you like more specific information about opening a Roth IRA account, setting up automatic investments in VOO, or how to balance your investment strategy between your car purchase and retirement goals?\n",
            "\n"
          ]
        }
      ],
      "source": [
        "response = recipe_agent(\"I am 25 yrs old, make $15,000, plan to buy a car in the future, also plan to save money for my retirement, and have an emergency fund.\")\n",
        "\n",
        "print(response)"
      ]
    },
    {
      "cell_type": "markdown",
      "id": "9f92c8a4",
      "metadata": {
        "id": "9f92c8a4"
      },
      "source": [
        "#### And that's it! We now have a running usecase agent with tools in just a few lines of code 🥳.\n",
        "\n",
        "For more detailed quickstart guide, check out the [Strands documentation](https://strandsagents.com/0.1.x/user-guide/quickstart/)."
      ]
    }
  ],
  "metadata": {
    "kernelspec": {
      "display_name": "Python 3 (ipykernel)",
      "language": "python",
      "name": "python3"
    },
    "language_info": {
      "codemirror_mode": {
        "name": "ipython",
        "version": 3
      },
      "file_extension": ".py",
      "mimetype": "text/x-python",
      "name": "python",
      "nbconvert_exporter": "python",
      "pygments_lexer": "ipython3",
      "version": "3.12.9"
    },
    "colab": {
      "provenance": []
    }
  },
  "nbformat": 4,
  "nbformat_minor": 5
}