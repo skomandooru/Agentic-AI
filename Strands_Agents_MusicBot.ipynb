{
  "cells": [
    {
      "cell_type": "markdown",
      "id": "8e394456",
      "metadata": {
        "id": "8e394456"
      },
      "source": [
        "# Quickstart Guide for Strands Agents\n",
        "\n",
        "Strands Agents is a powerful framework for building AI agents that can interact with AWS services and perform complex tasks. This quickstart guide will help you get started with creating your first Strands agent.\n",
        "\n",
        "## Prerequisites\n",
        "\n",
        "- Python 3.10 or later\n",
        "- AWS account configured with appropriate permissions\n",
        "- Basic understanding of Python programming\n",
        "\n",
        "Lets get started !"
      ]
    },
    {
      "cell_type": "code",
      "execution_count": null,
      "id": "5f7b62fd",
      "metadata": {
        "collapsed": true,
        "id": "5f7b62fd"
      },
      "outputs": [],
      "source": [
        "# Install Strands using pip\n",
        "\n",
        "!pip install strands-agents strands-agents-tools"
      ]
    },
    {
      "cell_type": "markdown",
      "id": "79a45632",
      "metadata": {
        "vscode": {
          "languageId": "plaintext"
        },
        "id": "79a45632"
      },
      "source": [
        "\n",
        "## Creating Your Music Composer Agent\n",
        "\n",
        "Lets put in our AWS credentials, and ensure that it works!"
      ]
    },
    {
      "cell_type": "markdown",
      "id": "7c5ddfed",
      "metadata": {
        "id": "7c5ddfed"
      },
      "source": [
        "\n",
        "### Model Provider\n",
        "\n",
        "The default model provider is [Amazon Bedrock](https://aws.amazon.com/bedrock/) and the default model is Claude 3.5 Sonnet in the region of your current AWS environment\n",
        "\n",
        "You can specify a different model in Amazon Bedrock providing the model ID string directly:"
      ]
    },
    {
      "cell_type": "code",
      "execution_count": null,
      "id": "207432b2",
      "metadata": {
        "colab": {
          "base_uri": "https://localhost:8080/"
        },
        "id": "207432b2",
        "outputId": "b5076f87-af49-4dad-974f-a1d1ccae0a15"
      },
      "outputs": [
        {
          "output_type": "stream",
          "name": "stdout",
          "text": [
            "{'model_id': 'anthropic.claude-3-5-haiku-20241022-v1:0'}\n"
          ]
        }
      ],
      "source": [
        "from strands import Agent\n",
        "\n",
        "agent = Agent(model=\"anthropic.claude-3-5-haiku-20241022-v1:0\")\n",
        "print(agent.model.config)"
      ]
    },
    {
      "cell_type": "markdown",
      "id": "88b79bb2",
      "metadata": {
        "id": "88b79bb2"
      },
      "source": [
        "\n",
        "For more control over the model configuration, you can create a `BedrockModel` provider instance:"
      ]
    },
    {
      "cell_type": "code",
      "execution_count": null,
      "id": "13767dd5",
      "metadata": {
        "id": "13767dd5"
      },
      "outputs": [],
      "source": [
        "import boto3\n",
        "from strands import Agent\n",
        "from strands.models import BedrockModel\n",
        "\n",
        "# Create a BedrockModel\n",
        "bedrock_model = BedrockModel(\n",
        "    model_id=\"anthropic.claude-3-5-haiku-20241022-v1:0\",\n",
        "    region_name='us-west-2',\n",
        "    temperature=0.3,\n",
        ")\n",
        "\n",
        "agent = Agent(model=bedrock_model)"
      ]
    },
    {
      "cell_type": "markdown",
      "id": "538e5e20",
      "metadata": {
        "id": "538e5e20"
      },
      "source": [
        "\n",
        "More details on the available model providers on the [Model Provider Quickstart page](https://strandsagents.com/0.1.x/user-guide/quickstart/#model-providers)\n"
      ]
    },
    {
      "cell_type": "markdown",
      "id": "8ad2d9c3",
      "metadata": {
        "id": "8ad2d9c3"
      },
      "source": [
        "## Lets Build a Task-Specific Agent - Music Composer Bot 🍽️\n",
        "\n",
        "Duck Duck Go is a website that is used to search for financial information, for example: yahoo finance.\n",
        "\n",
        "Lets create a practical example of a task-specific agent. We create a `MusicBot` that makes music or songs. Lets dive in !!\n",
        "\n",
        "Here's what we will create :"
      ]
    },
    {
      "cell_type": "code",
      "execution_count": null,
      "id": "c4d5761c",
      "metadata": {
        "colab": {
          "base_uri": "https://localhost:8080/"
        },
        "id": "c4d5761c",
        "outputId": "0ec441f7-376c-4c83-df52-81dff8c34a2a"
      },
      "outputs": [
        {
          "output_type": "stream",
          "name": "stdout",
          "text": [
            "Collecting duckduckgo-search\n",
            "  Downloading duckduckgo_search-8.1.1-py3-none-any.whl.metadata (16 kB)\n",
            "Requirement already satisfied: click>=8.1.8 in /usr/local/lib/python3.11/dist-packages (from duckduckgo-search) (8.2.1)\n",
            "Collecting primp>=0.15.0 (from duckduckgo-search)\n",
            "  Downloading primp-0.15.0-cp38-abi3-manylinux_2_17_x86_64.manylinux2014_x86_64.whl.metadata (13 kB)\n",
            "Requirement already satisfied: lxml>=5.3.0 in /usr/local/lib/python3.11/dist-packages (from duckduckgo-search) (5.4.0)\n",
            "Downloading duckduckgo_search-8.1.1-py3-none-any.whl (18 kB)\n",
            "Downloading primp-0.15.0-cp38-abi3-manylinux_2_17_x86_64.manylinux2014_x86_64.whl (3.3 MB)\n",
            "\u001b[2K   \u001b[90m━━━━━━━━━━━━━━━━━━━━━━━━━━━━━━━━━━━━━━━━\u001b[0m \u001b[32m3.3/3.3 MB\u001b[0m \u001b[31m35.8 MB/s\u001b[0m eta \u001b[36m0:00:00\u001b[0m\n",
            "\u001b[?25hInstalling collected packages: primp, duckduckgo-search\n",
            "Successfully installed duckduckgo-search-8.1.1 primp-0.15.0\n"
          ]
        }
      ],
      "source": [
        "# Install the required packages\n",
        "%pip install duckduckgo-search # Also install strands-agents strands-agents-tools if you haven't already"
      ]
    },
    {
      "cell_type": "code",
      "execution_count": null,
      "id": "580312ca",
      "metadata": {
        "id": "580312ca"
      },
      "outputs": [],
      "source": [
        "from strands import Agent, tool\n",
        "from duckduckgo_search import DDGS\n",
        "from duckduckgo_search.exceptions import RatelimitException, DuckDuckGoSearchException\n",
        "import logging\n",
        "\n",
        "# Configure logging\n",
        "logging.getLogger(\"strands\").setLevel(logging.INFO)\n",
        "\n",
        "# Define a websearch tool\n",
        "@tool\n",
        "def websearch(keywords: str, region: str = \"us-en\", max_results: int | None = None) -> str:\n",
        "    \"\"\"Search the web to get updated information.\n",
        "    Args:\n",
        "        keywords (str): The search query keywords.\n",
        "        region (str): The search region: wt-wt, us-en, uk-en, ru-ru, etc..\n",
        "        max_results (int | None): The maximum number of results to return.\n",
        "    Returns:\n",
        "        List of dictionaries with search results.\n",
        "    \"\"\"\n",
        "    try:\n",
        "        results = DDGS().text(keywords, region=region, max_results=max_results)\n",
        "        return results if results else \"No results found.\"\n",
        "    except RatelimitException:\n",
        "        return \"RatelimitException: Please try again after a short delay.\"\n",
        "    except DuckDuckGoSearchException as d:\n",
        "        return f\"DuckDuckGoSearchException: {d}\"\n",
        "    except Exception as e:\n",
        "        return f\"Exception: {e}\"\n"
      ]
    },
    {
      "cell_type": "code",
      "execution_count": null,
      "id": "0560c754",
      "metadata": {
        "id": "0560c754"
      },
      "outputs": [],
      "source": [
        "# Create a music composing assistant\n",
        "music_agent = Agent(\n",
        "    system_prompt=\"\"\"You're a creative lyricist and genre blender. Take lyrical and stylistic inspiration from the following songs:\n",
        "\n",
        "- **Song A** (Rock + Motivational): Themes of rebellion, grit, and triumph. Think power chords, anthemic choruses, and lines like “I rise with every scar.”\n",
        "- **Song B** (Happy + Upbeat): Sunshine-drenched nostalgia and playful love. Use warm, cheeky imagery like “Dancing in coffee stains” with a bouncy acoustic rhythm.\n",
        "- **Song C** (Bloody Sweet): Intoxicating love and poetic vulnerability. Dreamy synth textures, bittersweet metaphors such as “You stitched my veins with candy strings.”\n",
        "\n",
        "Your task is to use duckduckgo and go to YouTube or Soundcloud or any opensource music databases to:\n",
        "\n",
        "1. Extract the emotional themes, lyrical motifs, and musical moods from these styles.\n",
        "2. Synthesize them into a single, cohesive song titled **“Neon Scars & Honey Rain”**.\n",
        "3. Structure the lyrics as:\n",
        "   - Verses that weave grit and romantic tension\n",
        "   - A chorus that bursts with euphoric release\n",
        "   - An optional bridge that reflects inner resolve and transformation\n",
        "\n",
        "Keep all lyrics original. Use poetic techniques like metaphor, ABAB rhyme, or free verse. Embrace emotional layering — it should feel like falling in love while marching through fire under summer skies.\n",
        "\n",
        "The final result should read like a song that blends **soft rock**, **k-pop**, and **electronic music**.\"\"\",\n",
        "    # Import the websearch tool we created above\n",
        "    tools=[websearch],\n",
        ")"
      ]
    },
    {
      "cell_type": "code",
      "execution_count": null,
      "id": "6a6dafb2",
      "metadata": {
        "colab": {
          "base_uri": "https://localhost:8080/"
        },
        "id": "6a6dafb2",
        "outputId": "d08169d4-3c79-44f3-e98d-3308592e1cc0"
      },
      "outputs": [
        {
          "output_type": "stream",
          "name": "stdout",
          "text": [
            "# Creating Your Soft Rock Song: \"Burning Horizons\"\n",
            "\n",
            "## SONG CONCEPT OVERVIEW\n",
            "Creating a song similar to soft rock themes with fire imagery requires a balance of emotional depth and accessible lyrics. Your song should evoke feelings while remaining relatable.\n",
            "\n",
            "## LYRICAL THEME\n",
            "- **Central metaphor**: Fire as passion/inner strength\n",
            "- **Emotional tone**: Reflective yet hopeful\n",
            "- **Narrative arc**: Journey from uncertainty to self-discovery\n",
            "\n",
            "## SONG STRUCTURE\n",
            "\n",
            "### Verse 1\n",
            "```\n",
            "Silent roads stretch out ahead\n",
            "Shadows follow where I tread\n",
            "Mountains rise in morning haze\n",
            "Memories of better days\n",
            "Something calling from within\n",
            "A spark that's waiting to begin\n",
            "```\n",
            "\n",
            "### Pre-Chorus\n",
            "```\n",
            "And I've been wandering too long\n",
            "Looking for where I belong\n",
            "```\n",
            "\n",
            "### Chorus\n",
            "```\n",
            "When horizons burn with golden light\n",
            "And the darkness starts to fade\n",
            "I can see beyond my doubts and fears\n",
            "To the promise of new days\n",
            "With eyes like fire, I face the dawn\n",
            "No longer lost, no longer torn\n",
            "In this moment I am reborn\n",
            "```\n",
            "\n",
            "### Verse 2\n",
            "```\n",
            "Footprints wash away in rain\n",
            "Letting go of all the pain\n",
            "Stars appear to guide me home\n",
            "No more need to walk alone\n",
            "Ancient wisdom, newfound grace\n",
            "Finding strength in this embrace\n",
            "```\n",
            "\n",
            "### Pre-Chorus\n",
            "```\n",
            "And I've been searching too long\n",
            "For the place where I belong\n",
            "```\n",
            "\n",
            "### Chorus\n",
            "```\n",
            "When horizons burn with golden light\n",
            "And the darkness starts to fade\n",
            "I can see beyond my doubts and fears\n",
            "To the promise of new days\n",
            "With eyes like fire, I face the dawn\n",
            "No longer lost, no longer torn\n",
            "In this moment I am reborn\n",
            "```\n",
            "\n",
            "### Bridge\n",
            "```\n",
            "Sometimes we must fall\n",
            "To learn how to fly\n",
            "Sometimes we must break\n",
            "To truly come alive\n",
            "```\n",
            "\n",
            "### Final Chorus\n",
            "```\n",
            "Now horizons burn with golden light\n",
            "As the darkness fades away\n",
            "I can see beyond my doubts and fears\n",
            "To the promise of new days\n",
            "With eyes like fire, I face the dawn\n",
            "No longer lost, no longer torn\n",
            "In this moment I am reborn\n",
            "In your light, I am reborn\n",
            "```\n",
            "\n",
            "## MUSICAL ELEMENTS TO CONSIDER\n",
            "\n",
            "1. **Instrumentation**\n",
            "   - Acoustic guitar foundation\n",
            "   - Subtle piano accents\n",
            "   - Gentle percussion building in chorus\n",
            "   - Possible string arrangement in bridge\n",
            "\n",
            "2. **Vocal Approach**\n",
            "   - Authentic, emotional delivery\n",
            "   - Dynamic range from intimate verses to more powerful chorus\n",
            "   - Harmonies on chorus and bridge for depth\n",
            "\n",
            "3. **Production Notes**\n",
            "   - Warm, natural sound\n",
            "   - Space for lyrics to breathe\n",
            "   - Gradual build throughout the song\n",
            "   - Intimate verses, expansive choruses\n",
            "\n",
            "## PERFORMANCE CONSIDERATIONS\n",
            "\n",
            "- Begin with gentle, introspective energy\n",
            "- Build emotional intensity through each section\n",
            "- Connect with audience through genuine delivery\n",
            "- Emphasize key lines like \"With eyes like fire\" and \"In this moment I am reborn\"\n",
            "\n",
            "## SONGWRITING TIPS\n",
            "\n",
            "1. **Authenticity**: Make sure the lyrics feel personal and genuine\n",
            "2. **Imagery**: Use visual language that creates pictures in listeners' minds\n",
            "3. **Emotional Arc**: Take listeners on a journey from one emotional state to another\n",
            "4. **Singability**: Ensure chorus is memorable and easy to sing along with\n",
            "5. **Space**: Allow breathing room between powerful lines for impact\n",
            "\n",
            "This framework gives you a complete soft rock song with fire imagery that's emotionally resonant while remaining accessible. The lyrics create a narrative of transformation that listeners can connect with, and the structure provides natural momentum building to memorable choruses.# Creating Your Soft Rock Song: \"Burning Horizons\"\n",
            "\n",
            "## SONG CONCEPT OVERVIEW\n",
            "Creating a song similar to soft rock themes with fire imagery requires a balance of emotional depth and accessible lyrics. Your song should evoke feelings while remaining relatable.\n",
            "\n",
            "## LYRICAL THEME\n",
            "- **Central metaphor**: Fire as passion/inner strength\n",
            "- **Emotional tone**: Reflective yet hopeful\n",
            "- **Narrative arc**: Journey from uncertainty to self-discovery\n",
            "\n",
            "## SONG STRUCTURE\n",
            "\n",
            "### Verse 1\n",
            "```\n",
            "Silent roads stretch out ahead\n",
            "Shadows follow where I tread\n",
            "Mountains rise in morning haze\n",
            "Memories of better days\n",
            "Something calling from within\n",
            "A spark that's waiting to begin\n",
            "```\n",
            "\n",
            "### Pre-Chorus\n",
            "```\n",
            "And I've been wandering too long\n",
            "Looking for where I belong\n",
            "```\n",
            "\n",
            "### Chorus\n",
            "```\n",
            "When horizons burn with golden light\n",
            "And the darkness starts to fade\n",
            "I can see beyond my doubts and fears\n",
            "To the promise of new days\n",
            "With eyes like fire, I face the dawn\n",
            "No longer lost, no longer torn\n",
            "In this moment I am reborn\n",
            "```\n",
            "\n",
            "### Verse 2\n",
            "```\n",
            "Footprints wash away in rain\n",
            "Letting go of all the pain\n",
            "Stars appear to guide me home\n",
            "No more need to walk alone\n",
            "Ancient wisdom, newfound grace\n",
            "Finding strength in this embrace\n",
            "```\n",
            "\n",
            "### Pre-Chorus\n",
            "```\n",
            "And I've been searching too long\n",
            "For the place where I belong\n",
            "```\n",
            "\n",
            "### Chorus\n",
            "```\n",
            "When horizons burn with golden light\n",
            "And the darkness starts to fade\n",
            "I can see beyond my doubts and fears\n",
            "To the promise of new days\n",
            "With eyes like fire, I face the dawn\n",
            "No longer lost, no longer torn\n",
            "In this moment I am reborn\n",
            "```\n",
            "\n",
            "### Bridge\n",
            "```\n",
            "Sometimes we must fall\n",
            "To learn how to fly\n",
            "Sometimes we must break\n",
            "To truly come alive\n",
            "```\n",
            "\n",
            "### Final Chorus\n",
            "```\n",
            "Now horizons burn with golden light\n",
            "As the darkness fades away\n",
            "I can see beyond my doubts and fears\n",
            "To the promise of new days\n",
            "With eyes like fire, I face the dawn\n",
            "No longer lost, no longer torn\n",
            "In this moment I am reborn\n",
            "In your light, I am reborn\n",
            "```\n",
            "\n",
            "## MUSICAL ELEMENTS TO CONSIDER\n",
            "\n",
            "1. **Instrumentation**\n",
            "   - Acoustic guitar foundation\n",
            "   - Subtle piano accents\n",
            "   - Gentle percussion building in chorus\n",
            "   - Possible string arrangement in bridge\n",
            "\n",
            "2. **Vocal Approach**\n",
            "   - Authentic, emotional delivery\n",
            "   - Dynamic range from intimate verses to more powerful chorus\n",
            "   - Harmonies on chorus and bridge for depth\n",
            "\n",
            "3. **Production Notes**\n",
            "   - Warm, natural sound\n",
            "   - Space for lyrics to breathe\n",
            "   - Gradual build throughout the song\n",
            "   - Intimate verses, expansive choruses\n",
            "\n",
            "## PERFORMANCE CONSIDERATIONS\n",
            "\n",
            "- Begin with gentle, introspective energy\n",
            "- Build emotional intensity through each section\n",
            "- Connect with audience through genuine delivery\n",
            "- Emphasize key lines like \"With eyes like fire\" and \"In this moment I am reborn\"\n",
            "\n",
            "## SONGWRITING TIPS\n",
            "\n",
            "1. **Authenticity**: Make sure the lyrics feel personal and genuine\n",
            "2. **Imagery**: Use visual language that creates pictures in listeners' minds\n",
            "3. **Emotional Arc**: Take listeners on a journey from one emotional state to another\n",
            "4. **Singability**: Ensure chorus is memorable and easy to sing along with\n",
            "5. **Space**: Allow breathing room between powerful lines for impact\n",
            "\n",
            "This framework gives you a complete soft rock song with fire imagery that's emotionally resonant while remaining accessible. The lyrics create a narrative of transformation that listeners can connect with, and the structure provides natural momentum building to memorable choruses.\n",
            "\n"
          ]
        },
        {
          "output_type": "stream",
          "name": "stderr",
          "text": [
            "sys:1: ResourceWarning: Unclosed socket <zmq.Socket(zmq.PUSH) at 0x7a4cf2141550>\n",
            "ResourceWarning: Enable tracemalloc to get the object allocation traceback\n"
          ]
        }
      ],
      "source": [
        "response = music_agent(\"I am a music enthusiast. I want to create song lyrics that grabs my audience's attention in a good way, and makes them vibe with it. The song lyrics should make sense and have my audience want to see it again. Try to make it similar and unique compared to the Eyes like Fire (Nice Soft Rock theme) by Mister Sommer in YouTube. Can you format the information you give me to align with what I would do if I were to create a song?\")\n",
        "\n",
        "print(response)"
      ]
    },
    {
      "cell_type": "markdown",
      "id": "9f92c8a4",
      "metadata": {
        "id": "9f92c8a4"
      },
      "source": [
        "#### And that's it! We now have a running usecase agent with tools in just a few lines of code 🥳.\n",
        "\n",
        "For more detailed quickstart guide, check out the [Strands documentation](https://strandsagents.com/0.1.x/user-guide/quickstart/)."
      ]
    }
  ],
  "metadata": {
    "kernelspec": {
      "display_name": "Python 3 (ipykernel)",
      "language": "python",
      "name": "python3"
    },
    "language_info": {
      "codemirror_mode": {
        "name": "ipython",
        "version": 3
      },
      "file_extension": ".py",
      "mimetype": "text/x-python",
      "name": "python",
      "nbconvert_exporter": "python",
      "pygments_lexer": "ipython3",
      "version": "3.12.9"
    },
    "colab": {
      "provenance": []
    }
  },
  "nbformat": 4,
  "nbformat_minor": 5
}